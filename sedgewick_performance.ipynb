{
 "cells": [
  {
   "cell_type": "markdown",
   "metadata": {},
   "source": [
    "# Ex 4.1.28"
   ]
  },
  {
   "cell_type": "code",
   "execution_count": 3,
   "metadata": {},
   "outputs": [
    {
     "name": "stdout",
     "output_type": "stream",
     "text": [
      "[2, 2]\n"
     ]
    }
   ],
   "source": [
    "def closest_pair(x):\n",
    "    m = 999999999\n",
    "    temp = []\n",
    "    for i in range(len(x)):\n",
    "        for j in range(i+1,len(x)):\n",
    "            if abs(x[i]-x[j])<abs(m):\n",
    "                m=abs(x[i]-x[j])\n",
    "                temp = []\n",
    "                temp.append(x[i])\n",
    "                temp.append(x[j])\n",
    "    return temp\n",
    "\n",
    "x = [1,4,2,6,3,9,33,66,8,2,33,56,23,89]\n",
    "print(closest_pair(x))\n",
    "    "
   ]
  },
  {
   "cell_type": "markdown",
   "metadata": {},
   "source": [
    "# Ex 4.1.30"
   ]
  },
  {
   "cell_type": "code",
   "execution_count": 23,
   "metadata": {},
   "outputs": [
    {
     "name": "stdout",
     "output_type": "stream",
     "text": [
      "(-10, -1)\n"
     ]
    }
   ],
   "source": [
    "def farthest(x):\n",
    "    \n",
    "    m1 = x[0]\n",
    "    m2 = x[0]\n",
    "    \n",
    "    for i in range(len(x)):\n",
    "        if x[i]>m1:\n",
    "            m2 = m1\n",
    "            m1 = x[i]\n",
    "            \n",
    "    m3 = x[0]\n",
    "    m4 = x[0]\n",
    "    \n",
    "    for i in range(len(x)):\n",
    "        if x[i]<m3:\n",
    "            m4 = m3\n",
    "            m3 = x[i]\n",
    "            \n",
    "    if abs(m3+m4)>abs(m1+m2):\n",
    "        return m3,m4\n",
    "    else:\n",
    "        return m1,m2\n",
    "    \n",
    "x = [1, -1, 3, 6, -10]\n",
    "print(farthest(x))"
   ]
  },
  {
   "cell_type": "code",
   "execution_count": 20,
   "metadata": {},
   "outputs": [
    {
     "name": "stdout",
     "output_type": "stream",
     "text": [
      "[-1, -10]\n"
     ]
    }
   ],
   "source": [
    "def farthest1(x):\n",
    "    s = 0\n",
    "    t = []\n",
    "    for i in range(len(x)):\n",
    "        for j in range(i+1,len(x)):\n",
    "            if abs(x[i]+x[j])>abs(s):\n",
    "                t = []\n",
    "                s = x[i]+x[j]\n",
    "                t.append(x[i])\n",
    "                t.append(x[j])\n",
    "    return t\n",
    "\n",
    "x = [1, -1, 3, 6, -10]\n",
    "print(farthest1(x))"
   ]
  },
  {
   "cell_type": "markdown",
   "metadata": {},
   "source": [
    "#  Ex 4.1.32"
   ]
  },
  {
   "cell_type": "code",
   "execution_count": 25,
   "metadata": {},
   "outputs": [
    {
     "name": "stdout",
     "output_type": "stream",
     "text": [
      "83\n"
     ]
    }
   ],
   "source": [
    "## BRUTE FORCE APPROACH\n",
    "def tableaux(x,n):\n",
    "    \n",
    "    for  i in x:\n",
    "        for j in i:\n",
    "            if j==n:\n",
    "                return j\n",
    "    return -1\n",
    "\n",
    "x = [[5,23,54,67,89],\n",
    "     [6,69,73,74,90],\n",
    "     [10,71,83,84,91],\n",
    "     [60,73,84,86,92],\n",
    "     [90,91,92,93,94]]\n",
    "print(tableaux(x,83))\n",
    "    "
   ]
  },
  {
   "cell_type": "code",
   "execution_count": 28,
   "metadata": {},
   "outputs": [
    {
     "name": "stdout",
     "output_type": "stream",
     "text": [
      "84\n"
     ]
    }
   ],
   "source": [
    "#   O[n] complexity solution\n",
    "def tableaux1(x,n):\n",
    "    \n",
    "    i = 0\n",
    "    j = len(x)-1\n",
    "    \n",
    "    while i<len(x) and j>0:\n",
    "        \n",
    "        if x[i][j] == n:\n",
    "            return n\n",
    "        elif x[i][j]<n:\n",
    "            i+=1\n",
    "        elif x[i][j]>n:\n",
    "            j-=1\n",
    "    return -1\n",
    "\n",
    "x = [[5,23,54,67,89],\n",
    "     [6,69,73,74,90],\n",
    "     [10,71,83,84,91],\n",
    "     [60,73,84,86,92],\n",
    "     [90,91,92,93,94]]\n",
    "print(tableaux(x,84))\n",
    "            "
   ]
  },
  {
   "cell_type": "markdown",
   "metadata": {},
   "source": [
    "#  Ex 4.1.33"
   ]
  },
  {
   "cell_type": "code",
   "execution_count": null,
   "metadata": {},
   "outputs": [],
   "source": [
    "###    DYNAMIC PROGRAMMING #####"
   ]
  }
 ],
 "metadata": {
  "kernelspec": {
   "display_name": "Python 3",
   "language": "python",
   "name": "python3"
  },
  "language_info": {
   "codemirror_mode": {
    "name": "ipython",
    "version": 3
   },
   "file_extension": ".py",
   "mimetype": "text/x-python",
   "name": "python",
   "nbconvert_exporter": "python",
   "pygments_lexer": "ipython3",
   "version": "3.6.5"
  }
 },
 "nbformat": 4,
 "nbformat_minor": 2
}

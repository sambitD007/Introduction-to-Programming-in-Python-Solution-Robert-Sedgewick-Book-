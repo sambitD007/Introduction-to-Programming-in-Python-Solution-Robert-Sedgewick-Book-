{
 "cells": [
  {
   "cell_type": "markdown",
   "metadata": {},
   "source": [
    "# 4.3.20\n"
   ]
  },
  {
   "cell_type": "code",
   "execution_count": 141,
   "metadata": {},
   "outputs": [],
   "source": [
    "class Node:\n",
    "    def __init__(self,item,next):\n",
    "        self.item = item\n",
    "        self.next = next\n",
    "        \n",
    "class LinkedList:\n",
    "    def __init__(self):\n",
    "        self.first = None\n",
    "        self.last = None\n",
    "        \n",
    "    def isEmpty(self):\n",
    "        return self.first is None\n",
    "        \n",
    "    def add(self,item):\n",
    "        oldlast = self.last\n",
    "        self.last = Node(item,None)\n",
    "        if self.isEmpty(): self.first = self.last\n",
    "        else:               oldlast.next = self.last\n",
    "            \n",
    "    def disp(self):\n",
    "        x = self.first\n",
    "        while x!=None:\n",
    "            print(x.item)\n",
    "            x = x.next"
   ]
  },
  {
   "cell_type": "code",
   "execution_count": 142,
   "metadata": {},
   "outputs": [
    {
     "name": "stdout",
     "output_type": "stream",
     "text": [
      "Value Found\n",
      "1\n",
      "2\n",
      "3\n",
      "4\n"
     ]
    }
   ],
   "source": [
    "def find(z,val):\n",
    "    while z!=None:\n",
    "        if z.item == val:\n",
    "            return \"Value Found\"\n",
    "        z=z.next\n",
    "    return \"Value Not Found\"\n",
    "\n",
    "x = LinkedList()\n",
    "x.add(1)\n",
    "x.add(2)\n",
    "x.add(3)\n",
    "x.add(4)\n",
    "y = x.first\n",
    "print(find(y,3))\n",
    "x.disp()"
   ]
  },
  {
   "cell_type": "markdown",
   "metadata": {},
   "source": [
    "# 4.3.26"
   ]
  },
  {
   "cell_type": "code",
   "execution_count": 18,
   "metadata": {},
   "outputs": [],
   "source": [
    "class Node:\n",
    "    def __init__(self,item,next):\n",
    "        self.item = item\n",
    "        self.next = next\n",
    "        \n",
    "class LinkedList:\n",
    "    def __init__(self):\n",
    "        self.first = None\n",
    "        self.last = None\n",
    "        \n",
    "    def isEmpty(self):\n",
    "        return self.first is None\n",
    "        \n",
    "    def add(self,item):\n",
    "        oldlast = self.last\n",
    "        self.last = Node(item,None)\n",
    "        if self.isEmpty(): self.first = self.last\n",
    "        else:               oldlast.next = self.last\n",
    "            \n",
    "    def disp(self):\n",
    "        x = self.first\n",
    "        while x!=None:\n",
    "            print(x.item)\n",
    "            x = x.next\n",
    "            \n",
    "    def remove(self,val):\n",
    "        temp = self.first\n",
    "\n",
    "        while temp!=None and temp.next!=None:\n",
    "            if temp.next.item == val:\n",
    "                temp.next = temp.next.next\n",
    "            else:\n",
    "                temp = temp.next\n",
    "        \n",
    "        if self.first.item ==val:\n",
    "            self.first = self.first.next\n",
    "        "
   ]
  },
  {
   "cell_type": "code",
   "execution_count": 24,
   "metadata": {},
   "outputs": [
    {
     "name": "stdout",
     "output_type": "stream",
     "text": [
      "2\n",
      "3\n",
      "4\n"
     ]
    }
   ],
   "source": [
    "## Using delete function inside the Linked list class gives correct results\n",
    "## Using delete1 function given below you cannot delete the first element\n",
    "\n",
    "def remove1(z,val):  \n",
    "    while z!=None and z.item == val:\n",
    "        z = z.next\n",
    "        \n",
    "    while z!= None and z.next!=None:\n",
    "        if z.next.item == val:\n",
    "            z.next = z.next.next\n",
    "        else:\n",
    "            z = z.next\n",
    "    return \"Done\"\n",
    "            \n",
    "y = LinkedList()\n",
    "y.add(1)\n",
    "y.add(2)\n",
    "y.add(3)\n",
    "y.add(4)\n",
    "\n",
    "y1 = y.first\n",
    "y.remove(1)\n",
    "y.disp()\n"
   ]
  },
  {
   "cell_type": "markdown",
   "metadata": {},
   "source": [
    "#  4.3.24"
   ]
  },
  {
   "cell_type": "code",
   "execution_count": 190,
   "metadata": {},
   "outputs": [],
   "source": [
    "class Node:\n",
    "    def __init__(self,item,next):\n",
    "        self.item = item\n",
    "        self.next = next\n",
    "        \n",
    "class LinkedList:\n",
    "    def __init__(self):\n",
    "        self.first = None\n",
    "        self.last = None\n",
    "        \n",
    "    def isEmpty(self):\n",
    "        return self.first is None\n",
    "        \n",
    "    def add(self,item):\n",
    "        oldlast = self.last\n",
    "        self.last = Node(item,None)\n",
    "        if self.isEmpty(): self.first = self.last\n",
    "        else:               oldlast.next = self.last\n",
    "            \n",
    "    def disp(self):\n",
    "        x = self.first\n",
    "        while x!=None:\n",
    "            print(x.item)\n",
    "            x = x.next"
   ]
  },
  {
   "cell_type": "code",
   "execution_count": 191,
   "metadata": {},
   "outputs": [
    {
     "name": "stdout",
     "output_type": "stream",
     "text": [
      "1\n",
      "2\n",
      "4\n",
      "5\n"
     ]
    }
   ],
   "source": [
    "def removeAfter(z):\n",
    "    if z.next == None:\n",
    "        return \"No Node next\"\n",
    "    else:\n",
    "        z.next = z.next.next\n",
    "        \n",
    "x = LinkedList()\n",
    "x.add(1)\n",
    "x.add(2)\n",
    "x.add(3)\n",
    "x.add(4)\n",
    "x.add(5)\n",
    "x.add(5)\n",
    "z = x.first.next\n",
    "removeAfter(z)\n",
    "x.disp()"
   ]
  },
  {
   "cell_type": "markdown",
   "metadata": {},
   "source": [
    "# 4.3.25"
   ]
  },
  {
   "cell_type": "code",
   "execution_count": 196,
   "metadata": {},
   "outputs": [
    {
     "name": "stdout",
     "output_type": "stream",
     "text": [
      "1\n",
      "3\n",
      "3\n",
      "4\n",
      "5\n",
      "6\n"
     ]
    }
   ],
   "source": [
    "def copy(z):\n",
    "    new = LinkedList()\n",
    "    while z!=None:\n",
    "        new.add(z.item)\n",
    "        z = z.next\n",
    "    return new\n",
    "\n",
    "var1 = LinkedList()\n",
    "var1.add(1)\n",
    "var1.add(3)\n",
    "var1.add(3)\n",
    "var1.add(4)\n",
    "var1.add(5)\n",
    "var1.add(6)\n",
    "\n",
    "var2 = copy(var1.first)\n",
    "var2.disp()"
   ]
  },
  {
   "cell_type": "markdown",
   "metadata": {},
   "source": [
    "# 4.3.21"
   ]
  },
  {
   "cell_type": "code",
   "execution_count": 199,
   "metadata": {},
   "outputs": [],
   "source": [
    "class Node:\n",
    "    def __init__(self,item,next):\n",
    "        self.item = item\n",
    "        self.next = next\n",
    "        \n",
    "class LinkedList:\n",
    "    def __init__(self):\n",
    "        self.first = None\n",
    "        self.last = None\n",
    "        self.n = 0\n",
    "        \n",
    "    def isEmpty(self):\n",
    "        return self.first is None\n",
    "        \n",
    "    def add(self,item):\n",
    "        oldlast = self.last\n",
    "        self.last = Node(item,None)\n",
    "        if self.isEmpty(): self.first = self.last\n",
    "        else:               oldlast.next = self.last\n",
    "        self.n += 1\n",
    "            \n",
    "    def disp(self):\n",
    "        x = self.first\n",
    "        while x!=None:\n",
    "            print(x.item)\n",
    "            x = x.next"
   ]
  },
  {
   "cell_type": "code",
   "execution_count": 201,
   "metadata": {},
   "outputs": [
    {
     "name": "stdout",
     "output_type": "stream",
     "text": [
      "33\n"
     ]
    }
   ],
   "source": [
    "def delete(node,k):\n",
    "    count = 0\n",
    "    while node!=None:\n",
    "        count += 1\n",
    "        if k== count:\n",
    "            return node.item\n",
    "        node = node.next\n",
    "    return \"No such node exist\"\n",
    "\n",
    "x = LinkedList()\n",
    "x.add(11)\n",
    "x.add(22)\n",
    "x.add(33)\n",
    "x.add(44)\n",
    "x.add(55)\n",
    "\n",
    "print(delete(x.first,3))\n",
    "            "
   ]
  },
  {
   "cell_type": "markdown",
   "metadata": {},
   "source": [
    "# 4.3.27"
   ]
  },
  {
   "cell_type": "code",
   "execution_count": 209,
   "metadata": {},
   "outputs": [
    {
     "name": "stdout",
     "output_type": "stream",
     "text": [
      "67\n"
     ]
    }
   ],
   "source": [
    "def listmax(node):\n",
    "    if node == None:\n",
    "        return None\n",
    "    else:\n",
    "        c = node.item\n",
    "        while node !=None:\n",
    "            if c<node.item:\n",
    "                c = node.item\n",
    "            node = node.next\n",
    "        return c\n",
    "\n",
    "y = LinkedList()\n",
    "y.add(11)\n",
    "y.add(22)\n",
    "y.add(67)\n",
    "y.add(44)\n",
    "y.add(55)\n",
    "\n",
    "z = LinkedList()\n",
    "\n",
    "print(listmax(y.first))"
   ]
  },
  {
   "cell_type": "markdown",
   "metadata": {},
   "source": [
    "# 4.3.28"
   ]
  },
  {
   "cell_type": "code",
   "execution_count": 219,
   "metadata": {},
   "outputs": [
    {
     "name": "stdout",
     "output_type": "stream",
     "text": [
      "99\n"
     ]
    }
   ],
   "source": [
    "def listmax1(node):\n",
    "    if node.next == None:\n",
    "        return node.item\n",
    "    else:\n",
    "        return max(node.item,listmax1(node.next))\n",
    "    \n",
    "y = LinkedList()\n",
    "y.add(11)\n",
    "y.add(22)\n",
    "y.add(67)\n",
    "y.add(99)\n",
    "y.add(55)\n",
    "\n",
    "z = LinkedList()\n",
    "\n",
    "print(listmax1(y.first))"
   ]
  },
  {
   "cell_type": "code",
   "execution_count": null,
   "metadata": {},
   "outputs": [],
   "source": []
  }
 ],
 "metadata": {
  "kernelspec": {
   "display_name": "Python 3",
   "language": "python",
   "name": "python3"
  },
  "language_info": {
   "codemirror_mode": {
    "name": "ipython",
    "version": 3
   },
   "file_extension": ".py",
   "mimetype": "text/x-python",
   "name": "python",
   "nbconvert_exporter": "python",
   "pygments_lexer": "ipython3",
   "version": "3.6.5"
  }
 },
 "nbformat": 4,
 "nbformat_minor": 2
}

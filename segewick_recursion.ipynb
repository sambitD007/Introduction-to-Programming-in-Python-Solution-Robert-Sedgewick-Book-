{
 "cells": [
  {
   "cell_type": "markdown",
   "metadata": {},
   "source": [
    "Write a recursive function that computes the values of ln(n!)"
   ]
  },
  {
   "cell_type": "code",
   "execution_count": 22,
   "metadata": {},
   "outputs": [
    {
     "name": "stdout",
     "output_type": "stream",
     "text": [
      "1.791759469228055\n"
     ]
    }
   ],
   "source": [
    "import math\n",
    "\n",
    "def factorial(n):\n",
    "    if n==0: return 0\n",
    "    return math.log(n)+factorial(n-1)\n",
    "\n",
    "print(factorial(3))"
   ]
  },
  {
   "cell_type": "markdown",
   "metadata": {},
   "source": [
    "Exercise 2.3.15"
   ]
  },
  {
   "cell_type": "code",
   "execution_count": 25,
   "metadata": {},
   "outputs": [
    {
     "name": "stdout",
     "output_type": "stream",
     "text": [
      "4\n",
      "100"
     ]
    }
   ],
   "source": [
    "n= int(input())\n",
    "def rev(n):\n",
    "    if n==0: return\n",
    "    rev(n//2)\n",
    "    print(n%2,end='')\n",
    "    \n",
    "rev(n)"
   ]
  },
  {
   "cell_type": "code",
   "execution_count": 37,
   "metadata": {},
   "outputs": [
    {
     "name": "stdout",
     "output_type": "stream",
     "text": [
      "4\n",
      "100\n"
     ]
    }
   ],
   "source": [
    "n = int(input())\n",
    "def rev2(n):\n",
    "    temp = ''\n",
    "    while n>0:\n",
    "        temp += str(n%2)\n",
    "        n //=2\n",
    "    print(int(temp[::-1]))\n",
    "\n",
    "rev2(n)"
   ]
  },
  {
   "cell_type": "code",
   "execution_count": 38,
   "metadata": {},
   "outputs": [
    {
     "name": "stdout",
     "output_type": "stream",
     "text": [
      "4\n",
      "100"
     ]
    }
   ],
   "source": [
    "n=int(input())\n",
    "def rev3(n):\n",
    "    v = 1\n",
    "    while v<=n//2:\n",
    "        v*=2\n",
    "    \n",
    "    while v>0:\n",
    "        if n<v:\n",
    "            print(0)\n",
    "        else:\n",
    "            print(1)\n",
    "            n -= v\n",
    "        v //=2\n",
    "rev(n)"
   ]
  },
  {
   "cell_type": "markdown",
   "metadata": {},
   "source": [
    "Exercise 2.3.17"
   ]
  },
  {
   "cell_type": "code",
   "execution_count": 40,
   "metadata": {},
   "outputs": [
    {
     "name": "stdout",
     "output_type": "stream",
     "text": [
      "3\n",
      "abc\n",
      "acb\n",
      "bac\n",
      "bca\n",
      "cab\n",
      "cba\n",
      "\n"
     ]
    }
   ],
   "source": [
    "# Return a list of strings, each of which is a permutation of string s.\n",
    "\n",
    "def perm(s):\n",
    "    if len(s) == 0:\n",
    "        return ['']\n",
    "\n",
    "    strings = []\n",
    "    for i in range(len(s)):\n",
    "        # Compute a list of permutations of s with s[i] removed.\n",
    "        subStrings = perm(s[:i]+s[i+1:])\n",
    "\n",
    "        # Prepend s[i] to each string in that list.\n",
    "        for subString in subStrings:\n",
    "            strings += [s[i] + subString]\n",
    "\n",
    "    return strings\n",
    "\n",
    "#-----------------------------------------------------------------------\n",
    "\n",
    "# Write each string within list strings to standard output.\n",
    "\n",
    "def writeStrings(strings):\n",
    "    for s in strings:\n",
    "        if s == '':\n",
    "            print('empty')\n",
    "        else:\n",
    "            print(s)\n",
    "    print()\n",
    "\n",
    "#-----------------------------------------------------------------------\n",
    "\n",
    "# Accept integer command-line argument n. Write to standard output\n",
    "# all permutations of the first n characters of the alphabet.\n",
    "\n",
    "def main():\n",
    "    n = int(input())\n",
    "    ALPHABET = 'abcdefghijklmnopqrstuvwxyzABCDEFGHIJKLMNOPQRSTUVWXYZ'\n",
    "    string = ALPHABET[:n]\n",
    "    strings = perm(string)\n",
    "    writeStrings(strings)\n",
    "\n",
    "if __name__ == '__main__':\n",
    "    main()"
   ]
  },
  {
   "cell_type": "markdown",
   "metadata": {},
   "source": [
    "Exercise 2.3.18"
   ]
  },
  {
   "cell_type": "code",
   "execution_count": 1,
   "metadata": {},
   "outputs": [
    {
     "name": "stdout",
     "output_type": "stream",
     "text": [
      "4\n",
      "2\n",
      "ab\n",
      "ac\n",
      "ad\n",
      "ba\n",
      "bc\n",
      "bd\n",
      "ca\n",
      "cb\n",
      "cd\n",
      "da\n",
      "db\n",
      "dc\n",
      "\n"
     ]
    }
   ],
   "source": [
    "# Return a list of strings, each of which is a permutation of string s.\n",
    "\n",
    "def perm(s,k):\n",
    "    if k == 0:\n",
    "        return ['']\n",
    "    if k>len(s):\n",
    "        return []\n",
    "\n",
    "    strings = []\n",
    "    for i in range(len(s)):\n",
    "        # Compute a list of permutations of s with s[i] removed.\n",
    "        subStrings = perm(s[:i]+s[i+1:],k-1)\n",
    "\n",
    "        # Prepend s[i] to each string in that list.\n",
    "        for subString in subStrings:\n",
    "            strings += [s[i] + subString]\n",
    "\n",
    "    return strings\n",
    "\n",
    "\n",
    "#-----------------------------------------------------------------------\n",
    "\n",
    "# Write each string within list strings to standard output.\n",
    "\n",
    "def writeStrings(strings):\n",
    "    for s in strings:\n",
    "        if s == '':\n",
    "            print('empty')\n",
    "        else:\n",
    "            print(s)\n",
    "    print()\n",
    "\n",
    "#-----------------------------------------------------------------------\n",
    "\n",
    "# Accept integer command-line argument n. Write to standard output\n",
    "# all permutations of the first n characters of the alphabet.\n",
    "\n",
    "def main():\n",
    "    n = int(input())\n",
    "    k = int(input())\n",
    "    ALPHABET = 'abcdefghijklmnopqrstuvwxyzABCDEFGHIJKLMNOPQRSTUVWXYZ'\n",
    "    string = ALPHABET[:n]\n",
    "    strings = perm(string,k)\n",
    "    writeStrings(strings)\n",
    "\n",
    "if __name__ == '__main__':\n",
    "    main()"
   ]
  },
  {
   "cell_type": "markdown",
   "metadata": {},
   "source": [
    "Ex 2.3.19"
   ]
  },
  {
   "cell_type": "code",
   "execution_count": 1,
   "metadata": {},
   "outputs": [
    {
     "name": "stdout",
     "output_type": "stream",
     "text": [
      "3\n",
      "empty\n",
      "a\n",
      "b\n",
      "c\n",
      "ab\n",
      "ac\n",
      "bc\n",
      "abc\n",
      "\n"
     ]
    }
   ],
   "source": [
    "# Return a list containing strings which are the combinations of the\n",
    "# letters of string s, of any length.\n",
    "\n",
    "def combinations(s):\n",
    "    strings = []\n",
    "    for i in range(len(s)+1):\n",
    "        strings += combinationsOfLength(s, i)\n",
    "    return strings\n",
    "\n",
    "#-----------------------------------------------------------------------\n",
    "\n",
    "# Return a list containing strings which are the length k combinations\n",
    "# of the letters of string s.\n",
    "\n",
    "def combinationsOfLength(s, k):\n",
    "    if k == 0:\n",
    "        return ['']\n",
    "    strings = []\n",
    "    for i in range(len(s)):\n",
    "        subStrings = combinationsOfLength(s[i+1:], k-1)\n",
    "        for subString in subStrings:\n",
    "            strings += [s[i] + subString]\n",
    "    return strings\n",
    "\n",
    "#-----------------------------------------------------------------------\n",
    "\n",
    "# Write each string within list strings to standard output.\n",
    "\n",
    "def writeStrings(strings):\n",
    "    for s in strings:\n",
    "        if s == '':\n",
    "            print('empty')\n",
    "        else:\n",
    "            print(s)\n",
    "    print()\n",
    "\n",
    "#-----------------------------------------------------------------------\n",
    "\n",
    "# Accept integer command-line argument n. Write to standard\n",
    "# output all combinations of the first n characters of the\n",
    "# alphabet of any length.\n",
    "\n",
    "def main():\n",
    "    n = int(input())\n",
    "\n",
    "    ALPHABET = 'abcdefghijklmnopqrstuvwxyzABCDEFGHIJKLMNOPQRSTUVWXYZ'\n",
    "    string = ALPHABET[:n]\n",
    "    strings = combinations(string)\n",
    "    writeStrings(strings)\n",
    "\n",
    "if __name__ == '__main__':\n",
    "    main()\n",
    "    "
   ]
  },
  {
   "cell_type": "markdown",
   "metadata": {},
   "source": [
    "Ex 2.3.20"
   ]
  },
  {
   "cell_type": "code",
   "execution_count": null,
   "metadata": {},
   "outputs": [],
   "source": [
    "# Return a list containing strings which are the length k combinations\n",
    "# of the letters of string s.\n",
    "\n",
    "def choose(s, k):\n",
    "    if k == 0:\n",
    "        return ['']\n",
    "    strings = []\n",
    "    for i in range(len(s)):\n",
    "        subStrings = choose(s[i+1:], k-1)\n",
    "        for subString in subStrings:\n",
    "            strings += [s[i] + subString]\n",
    "    return strings\n",
    "\n",
    "#-----------------------------------------------------------------------\n",
    "\n",
    "# Write each string within list strings to standard output.\n",
    "\n",
    "def writeStrings(strings):\n",
    "    for s in strings:\n",
    "        if s == '':\n",
    "            input('empty')\n",
    "        else:\n",
    "            input(s)\n",
    "    input()\n",
    "\n",
    "#-----------------------------------------------------------------------\n",
    "\n",
    "# Accept integer command-line arguments n and k. Write to standard\n",
    "# output all length k combinations of the first n characters of the\n",
    "# alphabet.\n",
    "\n",
    "def main():\n",
    "    n = int(input())\n",
    "    k = int(input())\n",
    "\n",
    "    alphabet = 'abcdefghijklmnopqrstuvwxyzABCDEFGHIJKLMNOPQRSTUVWXYZ'\n",
    "    string = alphabet[:n]\n",
    "    strings = choose(string, k)\n",
    "    writeStrings(strings)\n",
    "\n",
    "if __name__ == '__main__':\n",
    "    main()"
   ]
  },
  {
   "cell_type": "markdown",
   "metadata": {},
   "source": [
    "Ex 2.3.24"
   ]
  },
  {
   "cell_type": "code",
   "execution_count": 9,
   "metadata": {},
   "outputs": [
    {
     "name": "stdout",
     "output_type": "stream",
     "text": [
      "4\n",
      "0000\n",
      "1000\n",
      "1100\n",
      "0100\n",
      "0110\n",
      "1110\n",
      "1010\n",
      "0010\n",
      "0011\n",
      "1011\n",
      "1111\n",
      "0111\n",
      "0101\n",
      "1101\n",
      "1001\n",
      "0001\n"
     ]
    }
   ],
   "source": [
    "# Return an n-bit Gray code.\n",
    "\n",
    "def genCode(n):\n",
    "    if n == 0:\n",
    "        return ['']\n",
    "    \n",
    "    code1 = genCode(n-1)\n",
    "    code2 = []\n",
    "    for codeWord in code1:\n",
    "        code2 = [codeWord] + code2\n",
    "        \n",
    "    for i in range(len(code1)):\n",
    "        code1[i] += '0'\n",
    "    for i in range(len(code2)):\n",
    "        code2[i] += '1'\n",
    "    return code1 + code2    \n",
    "    \n",
    "#-----------------------------------------------------------------------\n",
    "\n",
    "# Accept integer n, and write to standard output an n-bit Gray code.\n",
    "\n",
    "def main():\n",
    "    n = int(input())\n",
    "    code = genCode(n)\n",
    "    for codeWord in code:\n",
    "        print(codeWord)\n",
    "\n",
    "if __name__ == '__main__':\n",
    "    main()"
   ]
  },
  {
   "cell_type": "markdown",
   "metadata": {},
   "source": [
    "FIbonacci number"
   ]
  },
  {
   "cell_type": "code",
   "execution_count": 25,
   "metadata": {},
   "outputs": [
    {
     "name": "stdout",
     "output_type": "stream",
     "text": [
      "90\n",
      "2880067194370816120\n"
     ]
    }
   ],
   "source": [
    "n = int(input())\n",
    "def fib(n):\n",
    "    x=[0,1]\n",
    "    if n==0:\n",
    "        return 0\n",
    "    elif n==1:\n",
    "        return 1\n",
    "    else:\n",
    "        for i in range(n-1):\n",
    "            x.append(x[i]+x[i+1])\n",
    "        return x[n]\n",
    "\n",
    "def fib1(n):\n",
    "    if n==0:\n",
    "        return 0\n",
    "    elif n==1:\n",
    "        return 1\n",
    "    else:\n",
    "        return fib1(n-1)+fib1(n-2)\n",
    "    \n",
    "print(fib(n))"
   ]
  },
  {
   "cell_type": "markdown",
   "metadata": {},
   "source": [
    "# Memoization solution for fibonacci "
   ]
  },
  {
   "cell_type": "code",
   "execution_count": 21,
   "metadata": {},
   "outputs": [
    {
     "name": "stdout",
     "output_type": "stream",
     "text": [
      "6765\n"
     ]
    }
   ],
   "source": [
    "def fib2(n):\n",
    "    x = 100*[0]\n",
    "    if n==0: return 0\n",
    "    if n==1: return 1\n",
    "    if x[n]==0:\n",
    "        x[n]= fib2(n-1)+fib2(n-2)\n",
    "        return x[n]\n",
    "print(fib2(20))\n",
    "    "
   ]
  },
  {
   "cell_type": "code",
   "execution_count": 1,
   "metadata": {},
   "outputs": [
    {
     "name": "stdout",
     "output_type": "stream",
     "text": [
      "aba\n",
      "['a', 'b']\n",
      "2\n"
     ]
    }
   ],
   "source": [
    "x1 = list(input())\n",
    "while x1==x1[::-1]:\n",
    "    x1 = x1[0:len(x1)-1]\n",
    "    print(x1)\n",
    "print(len(x1))\n"
   ]
  },
  {
   "cell_type": "code",
   "execution_count": 13,
   "metadata": {},
   "outputs": [
    {
     "name": "stdout",
     "output_type": "stream",
     "text": [
      "2\n",
      "1 0 -1\n",
      "1 0 -1\n",
      "1 1 1\n",
      "1 1 1\n",
      "0\n"
     ]
    }
   ],
   "source": [
    "n = int(input())\n",
    "for i in range(n):\n",
    "    count = 0\n",
    "    x = list(input().split())\n",
    "    a = int(x[0])\n",
    "    b = int(x[1])\n",
    "    c = int(x[2])\n",
    "    print(a,b,c)\n",
    "    if ((b*b)-(4*a*c))>=0:\n",
    "        count += 1\n",
    "print(count)"
   ]
  },
  {
   "cell_type": "code",
   "execution_count": 21,
   "metadata": {},
   "outputs": [
    {
     "name": "stdout",
     "output_type": "stream",
     "text": [
      "1010\n"
     ]
    }
   ],
   "source": [
    "def rec(n):\n",
    "    if n==0: return 0\n",
    "    if n==1: return 1\n",
    "    return str(rec(n//2))+str(int(n%2))\n",
    "print(rec(10))"
   ]
  },
  {
   "cell_type": "code",
   "execution_count": 8,
   "metadata": {},
   "outputs": [
    {
     "name": "stdout",
     "output_type": "stream",
     "text": [
      "7\n",
      "Think of a number between 0 and 127\n",
      "Greater than or equal to 64? 1\n",
      "Greater than or equal to 96? 1\n",
      "Greater than or equal to 112? 1\n",
      "Greater than or equal to 120? 1\n",
      "Greater than or equal to 124? 0\n",
      "Greater than or equal to 122? 0\n",
      "Greater than or equal to 121? 0\n",
      "Your number is 120\n"
     ]
    }
   ],
   "source": [
    "#Binary Search\n",
    "def search(lo,hi):\n",
    "    if (hi-lo)==1:\n",
    "        return lo\n",
    "    mid = (hi+lo)//2\n",
    "    x = int(input('Greater than or equal to '+str(mid)+'? '))\n",
    "    if x:\n",
    "        return search(mid,hi)\n",
    "    else:\n",
    "        return search(lo,mid)\n",
    "\n",
    "k=int(input())\n",
    "n=2**k\n",
    "print('Think of a number between 0 and '+str(n-1))\n",
    "guess=search(0,n)\n",
    "print('Your number is '+str(guess))"
   ]
  },
  {
   "cell_type": "code",
   "execution_count": 14,
   "metadata": {},
   "outputs": [
    {
     "name": "stdout",
     "output_type": "stream",
     "text": [
      "[1, 2, 3, 5, 7, 8, 10]\n",
      "['a', 'b', 'z']\n"
     ]
    }
   ],
   "source": [
    "#Insertion Sort\n",
    "def swap(a,i,j):\n",
    "    a[i],a[j] = a[j],a[i]\n",
    "\n",
    "def sort(a):\n",
    "    n=len(a)\n",
    "    for i in range(1,n):\n",
    "        j=i\n",
    "        while j>0 and a[j]<a[j-1]:\n",
    "            swap(a,j,j-1)\n",
    "            j-=1\n",
    "    return a\n",
    "print(sort([8,1,3,10,2,7,5]))\n",
    "print(sort(['z','a','b']))"
   ]
  },
  {
   "cell_type": "code",
   "execution_count": 92,
   "metadata": {},
   "outputs": [
    {
     "name": "stdout",
     "output_type": "stream",
     "text": [
      "-1\n"
     ]
    }
   ],
   "source": [
    "a=[1,2,3,4,5,6,7,8,9,10]\n",
    "def binser(a,n):\n",
    "    lo = 0 \n",
    "    hi = len(a)-1\n",
    "\n",
    "    while lo<=hi:\n",
    "        mid = (lo+hi)//2\n",
    "\n",
    "        if a[mid]==n:\n",
    "            return a[mid]\n",
    "        \n",
    "        elif a[mid]>n:\n",
    "            hi = mid-1\n",
    "            \n",
    "        elif a[mid]<n:\n",
    "            lo = mid+1\n",
    "    \n",
    "    return -1\n",
    "print(binser(a,11))"
   ]
  },
  {
   "cell_type": "code",
   "execution_count": 29,
   "metadata": {},
   "outputs": [
    {
     "name": "stdout",
     "output_type": "stream",
     "text": [
      "0\n",
      "-1\n"
     ]
    }
   ],
   "source": [
    "#recursive binary search\n",
    "a=[1,2,3,4,5,6,7,8,9,10]\n",
    "def binser1(a,lo,hi,n):\n",
    "    mid = (lo+hi)//2\n",
    "    if lo>hi:\n",
    "        return -1\n",
    "    if a[mid]==n:\n",
    "        return a[mid]\n",
    "    elif a[mid]<n:\n",
    "        return binser1(a,mid+1,hi,n)\n",
    "    elif a[mid]>n:\n",
    "        return binser1(a,lo,mid-1,n)\n",
    "x = int(input())\n",
    "print(binser1(a,0,len(a)-1,x))"
   ]
  },
  {
   "cell_type": "code",
   "execution_count": 60,
   "metadata": {},
   "outputs": [
    {
     "name": "stdout",
     "output_type": "stream",
     "text": [
      "[1, 2, 3, 5, 6, 7]\n"
     ]
    }
   ],
   "source": [
    "def merge(a,lo,mid,hi,aux):\n",
    "    \n",
    "    n = hi-lo\n",
    "    i = lo\n",
    "    j = mid\n",
    "    \n",
    "    for k in range(n):\n",
    "        if   i==mid:         aux[k] = a[j]; j+=1\n",
    "        elif j==hi:          aux[k] = a[i]; i+=1\n",
    "        elif a[j]<a[i]:      aux[k] = a[j]; j+=1\n",
    "        else:                aux[k] = a[i]; i+=1\n",
    "    a[lo:hi] = aux[0:n]\n",
    "            \n",
    "def sort(a,lo,hi,aux):\n",
    "    \n",
    "    n = hi-lo\n",
    "    if n<=1: return\n",
    "    \n",
    "    mid = (hi+lo)//2\n",
    "    sort(a, lo, mid, aux)\n",
    "    sort(a, mid, hi, aux)\n",
    "    merge(a, lo, mid, hi, aux)\n",
    "    \n",
    "\n",
    "a = [1,5,7,2,3,6]\n",
    "n = len(a)\n",
    "aux = len(a)*[None]\n",
    "sort(a,0,n,aux)\n",
    "#merge(a,a,0,2,5)\n",
    "print(a)\n",
    "    \n",
    "    "
   ]
  },
  {
   "cell_type": "markdown",
   "metadata": {},
   "source": [
    "# Ex 4.2.16"
   ]
  },
  {
   "cell_type": "code",
   "execution_count": 1,
   "metadata": {},
   "outputs": [
    {
     "name": "stdout",
     "output_type": "stream",
     "text": [
      "98 2 3 1 0 0 0 3 98 98 2 2 2 0 0 0 2\n",
      "[0, 0, 0, 0, 0, 0, 1, 2, 2, 2, 2, 2, 3, 3, 98, 98, 98]\n"
     ]
    }
   ],
   "source": [
    "x=list(map(int,input().split()))\n",
    "\n",
    "def merge(a,lo,mid,hi,aux):\n",
    "    \n",
    "    n = hi-lo\n",
    "    i = lo\n",
    "    j = mid\n",
    "    \n",
    "    for k in range(n):\n",
    "        \n",
    "        if i==mid:        aux[k] = a[j]; j+=1\n",
    "        elif j==hi:       aux[k] = a[i]; i+=1\n",
    "        elif a[j]<a[i]:   aux[k] = a[j]; j+=1\n",
    "        else:             aux[k] = a[i]; i+=1\n",
    "    a[lo:hi] = aux[0:n]\n",
    "    \n",
    "def sort(a,lo,hi,aux):\n",
    "    \n",
    "    n = hi-lo\n",
    "    if n<=1: return\n",
    "    mid = (lo+hi)//2\n",
    "    sort(a,lo,mid,aux)\n",
    "    sort(a,mid,hi,aux)\n",
    "    merge(a,lo,mid,hi,aux)\n",
    "    \n",
    "    \n",
    "\n",
    "aux = len(x)*[None]\n",
    "sort(x,0,len(x),aux)\n",
    "print(x)\n",
    "#[98 2 3 1 0 0 0 3 98 98 2 2 2 0 0 0 2]"
   ]
  },
  {
   "cell_type": "markdown",
   "metadata": {},
   "source": [
    "# Ex 4.2.19"
   ]
  },
  {
   "cell_type": "code",
   "execution_count": 20,
   "metadata": {},
   "outputs": [
    {
     "name": "stdout",
     "output_type": "stream",
     "text": [
      "1 2 3 4 5 6 7 8 9 10\n",
      "5\n",
      "4\n",
      "6\n"
     ]
    }
   ],
   "source": [
    "x = list(map(int,input().split()))\n",
    "n = int(input())\n",
    "def floor(x,lo,hi,n):\n",
    "\n",
    "    mid = (lo+hi)//2\n",
    "    \n",
    "    if lo>hi:\n",
    "        return -1\n",
    "    if x[mid]==n:\n",
    "        return x[mid-1]\n",
    "    elif x[mid]<n:\n",
    "         return floor(x,mid+1,hi,n)\n",
    "    elif x[mid]>n:\n",
    "        return floor(x,lo,mid-1,n)\n",
    "    \n",
    "def ceil(x,lo,hi,n):\n",
    "\n",
    "    mid = (lo+hi)//2\n",
    "    \n",
    "    if lo>hi:\n",
    "        return -1\n",
    "    if x[mid]==n:\n",
    "        return x[mid+1]\n",
    "    elif x[mid]<n:\n",
    "         return floor(x,mid+1,hi,n)\n",
    "    elif x[mid]>n:\n",
    "        return floor(x,lo,mid-1,n)\n",
    "        \n",
    "print(floor(x,0,len(x)-1,n))\n",
    "print(ceil(x,0,len(x)-1,n))\n",
    "# 1 2 3 4 5 6 7 8 9 10"
   ]
  },
  {
   "cell_type": "markdown",
   "metadata": {},
   "source": [
    "# Ex 4.2.20"
   ]
  },
  {
   "cell_type": "code",
   "execution_count": 27,
   "metadata": {},
   "outputs": [
    {
     "name": "stdout",
     "output_type": "stream",
     "text": [
      "20\n"
     ]
    }
   ],
   "source": [
    "arr = [-3, 9, 8, 20, 17, 5, 4]\n",
    "def bitonic1(arr,lo,hi):\n",
    "    mid = (lo+hi)//2\n",
    "    if arr[mid]>arr[mid-1] and arr[mid]>arr[mid+1]:\n",
    "        return arr[mid]\n",
    "    elif arr[mid]<arr[mid+1]:\n",
    "        return bitonic1(arr,mid+1,hi)\n",
    "    elif arr[mid]<arr[mid-1]:\n",
    "        return bitonic1(arr,lo,mid-1)\n",
    "\n",
    "print(bitonic1(arr,0,len(arr)-1))\n",
    "    "
   ]
  },
  {
   "cell_type": "markdown",
   "metadata": {},
   "source": [
    "# Ex 4.2.21"
   ]
  },
  {
   "cell_type": "code",
   "execution_count": 77,
   "metadata": {},
   "outputs": [
    {
     "name": "stdout",
     "output_type": "stream",
     "text": [
      "2\n",
      "2\n"
     ]
    }
   ],
   "source": [
    "arr = [1,2,3,10,9,8,7]\n",
    "n = int(input())\n",
    "\n",
    "def bitonic1(arr,lo,hi):\n",
    "    mid = (lo+hi)//2\n",
    "    if arr[mid]>arr[mid-1] and arr[mid]>arr[mid+1]:\n",
    "        return arr[mid]\n",
    "    elif arr[mid]<arr[mid+1]:\n",
    "        return bitonic1(arr,mid+1,hi)\n",
    "    elif arr[mid]<arr[mid-1]:\n",
    "        return bitonic1(arr,lo,mid-1)\n",
    "#for ascending search    \n",
    "def binary_search(arr,lo,hi,n):\n",
    "    \n",
    "    mid = (lo+hi)//2\n",
    "    if lo>hi:\n",
    "        return -1\n",
    "    if arr[mid] == n:\n",
    "        return arr[mid]\n",
    "    elif arr[mid]<n:\n",
    "        return binary_search(arr,mid+1,hi,n)\n",
    "    elif arr[mid]>n:\n",
    "        return binary_search(arr,lo,mid-1,n)\n",
    "\n",
    "# For descending search\n",
    "def binary_search1(arr,lo,hi,n):\n",
    "    \n",
    "    mid = (lo+hi)//2\n",
    "    if lo>hi:\n",
    "        return -1\n",
    "    if arr[mid] == n:\n",
    "        return arr[mid]\n",
    "    elif arr[mid]>n:\n",
    "        return binary_search(arr,mid+1,hi,n)\n",
    "    elif arr[mid]<n:\n",
    "        return binary_search(arr,lo,mid-1,n)\n",
    "    \n",
    "def bitonic_search(arr,lo,hi,n):\n",
    "    \n",
    "    x = bitonic1(arr,lo,hi)\n",
    "    \n",
    "    x1 = arr.index(x)\n",
    "    \n",
    "    y1 = binary_search(arr,0,x1-1,n)\n",
    "    y2 = binary_search1(arr,x1+1,len(arr)-1,n)\n",
    "    \n",
    "    \n",
    "    if x == n:\n",
    "        return x\n",
    "    elif y1==-1 and y2==-1:\n",
    "        return -1\n",
    "    elif y1!=-1:\n",
    "        return y1\n",
    "    else:\n",
    "        return y2\n",
    "    \n",
    "print(bitonic_search(arr,0,len(arr)-1,n))\n",
    "\n",
    "    "
   ]
  },
  {
   "cell_type": "markdown",
   "metadata": {},
   "source": [
    "# Ex 4.2.22"
   ]
  },
  {
   "cell_type": "code",
   "execution_count": 65,
   "metadata": {},
   "outputs": [
    {
     "name": "stdout",
     "output_type": "stream",
     "text": [
      "[6, 7]\n",
      "[1, 3, 6, 7, 10, 21, 33, 40, 57, 66, 90, 112]\n"
     ]
    }
   ],
   "source": [
    "def merge(a,lo,mid,hi,aux):\n",
    "    n = hi-lo\n",
    "    i = lo\n",
    "    j = mid\n",
    "    \n",
    "    for k in range(n):\n",
    "        if i==mid:         aux[k] = a[j]; j+=1\n",
    "        elif j==hi:        aux[k] = a[i]; i+=1\n",
    "        elif a[j]<a[i]:    aux[k] = a[j]; j+=1\n",
    "        else:              aux[k] = a[i]; i+=1\n",
    "    a[lo:hi] = aux[0:n]\n",
    "\n",
    "def sort(a,lo,hi,aux):\n",
    "    \n",
    "    n = hi-lo\n",
    "    if n<=1: return\n",
    "    mid = (lo+hi)//2\n",
    "    sort(a,lo,mid,aux)\n",
    "    sort(a,mid,hi,aux)\n",
    "    merge(a,lo,mid,hi,aux)\n",
    "    \n",
    "a = [7,1,3,6,10,40,66,21,57,33,90,112]\n",
    "aux = len(a)*[None]\n",
    "\n",
    "sort(a,0,len(a)-1,aux)\n",
    "\n",
    "temp = [a[0],a[1]]\n",
    "m = a[1]-a[0]\n",
    "for i in range(1,len(a)-1):\n",
    "    if (a[i+1]-a[i])<m:\n",
    "        temp[0] = a[i]\n",
    "        temp[1] = a[i+1]\n",
    "        m = a[i+1]-a[i]\n",
    "        \n",
    "print(temp)\n",
    "print(a)\n",
    "\n"
   ]
  },
  {
   "cell_type": "markdown",
   "metadata": {},
   "source": [
    "# Ex 4.2.23"
   ]
  },
  {
   "cell_type": "code",
   "execution_count": 66,
   "metadata": {},
   "outputs": [
    {
     "name": "stdout",
     "output_type": "stream",
     "text": [
      "[66, 90]\n",
      "[1, 3, 6, 7, 10, 21, 33, 40, 57, 66, 90, 112]\n"
     ]
    }
   ],
   "source": [
    "def merge(a,lo,mid,hi,aux):\n",
    "    n = hi-lo\n",
    "    i = lo\n",
    "    j = mid\n",
    "    \n",
    "    for k in range(n):\n",
    "        if i==mid:         aux[k] = a[j]; j+=1\n",
    "        elif j==hi:        aux[k] = a[i]; i+=1\n",
    "        elif a[j]<a[i]:    aux[k] = a[j]; j+=1\n",
    "        else:              aux[k] = a[i]; i+=1\n",
    "    a[lo:hi] = aux[0:n]\n",
    "\n",
    "def sort(a,lo,hi,aux):\n",
    "    \n",
    "    n = hi-lo\n",
    "    if n<=1: return\n",
    "    mid = (lo+hi)//2\n",
    "    sort(a,lo,mid,aux)\n",
    "    sort(a,mid,hi,aux)\n",
    "    merge(a,lo,mid,hi,aux)\n",
    "    \n",
    "a = [7,1,3,6,10,40,66,21,57,33,90,112]\n",
    "aux = len(a)*[None]\n",
    "\n",
    "sort(a,0,len(a)-1,aux)\n",
    "\n",
    "temp = [a[0],a[1]]\n",
    "m = a[1]-a[0]\n",
    "for i in range(1,len(a)-1):\n",
    "    if (a[i+1]-a[i])>m:\n",
    "        temp[0] = a[i]\n",
    "        temp[1] = a[i+1]\n",
    "        m = a[i+1]-a[i]\n",
    "        \n",
    "print(temp)\n",
    "print(a)"
   ]
  },
  {
   "cell_type": "markdown",
   "metadata": {},
   "source": [
    "# Ex 4.2.24"
   ]
  },
  {
   "cell_type": "code",
   "execution_count": 75,
   "metadata": {},
   "outputs": [
    {
     "name": "stdout",
     "output_type": "stream",
     "text": [
      "-4 5\n",
      "-3 4\n",
      "-2 3\n",
      "-1 2\n",
      "0 1\n"
     ]
    }
   ],
   "source": [
    "ar = [-5,1,2,3,-4,-3,0,-2,-1,4,5]\n",
    "\n",
    "def merge(a,lo,mid,hi,aux):\n",
    "    n = hi-lo\n",
    "    i = lo\n",
    "    j = mid\n",
    "    \n",
    "    for k in range(n):\n",
    "        if i==mid:         aux[k] = a[j]; j+=1\n",
    "        elif j==hi:        aux[k] = a[i]; i+=1\n",
    "        elif a[j]<a[i]:    aux[k] = a[j]; j+=1\n",
    "        else:              aux[k] = a[i]; i+=1\n",
    "    a[lo:hi] = aux[0:n]\n",
    "\n",
    "def sort(a,lo,hi,aux):\n",
    "    \n",
    "    n = hi-lo\n",
    "    if n<=1: return\n",
    "    mid = (lo+hi)//2\n",
    "    sort(a,lo,mid,aux)\n",
    "    sort(a,mid,hi,aux)\n",
    "    merge(a,lo,mid,hi,aux)\n",
    "    \n",
    "\n",
    "\n",
    "def two_sum(ar,n):\n",
    "    \n",
    "    aux = len(a)*[None]\n",
    "    sort(ar,0,len(a)-1,aux)\n",
    "    \n",
    "    l = 0\n",
    "    h = len(ar)-1\n",
    "    while l<h:\n",
    "        if ar[l]+ar[h]== n:\n",
    "            print(ar[l],ar[h])\n",
    "            l+=1\n",
    "            h-=1\n",
    "        elif ar[l]+ar[h]>n:\n",
    "            h-=1\n",
    "        elif ar[l]+ar[h]<n:\n",
    "            l+=1\n",
    "two_sum(ar,1)"
   ]
  },
  {
   "cell_type": "markdown",
   "metadata": {},
   "source": [
    "# Ex 4.2.25"
   ]
  },
  {
   "cell_type": "code",
   "execution_count": 80,
   "metadata": {},
   "outputs": [
    {
     "name": "stdout",
     "output_type": "stream",
     "text": [
      "1 5 -5\n",
      "2 4 -5\n",
      "0 5 -4\n",
      "1 4 -4\n",
      "2 3 -4\n",
      "-1 5 -3\n",
      "0 4 -3\n",
      "1 3 -3\n",
      "-1 4 -2\n",
      "0 3 -2\n",
      "1 2 -2\n",
      "0 2 -1\n"
     ]
    }
   ],
   "source": [
    "ar = [-5,1,2,3,-4,-3,0,-2,-1,4,5]\n",
    "\n",
    "def merge(a,lo,mid,hi,aux):\n",
    "    n = hi-lo\n",
    "    i = lo\n",
    "    j = mid\n",
    "    \n",
    "    for k in range(n):\n",
    "        if i==mid:         aux[k] = a[j]; j+=1\n",
    "        elif j==hi:        aux[k] = a[i]; i+=1\n",
    "        elif a[j]<a[i]:    aux[k] = a[j]; j+=1\n",
    "        else:              aux[k] = a[i]; i+=1\n",
    "    a[lo:hi] = aux[0:n]\n",
    "\n",
    "def sort(a,lo,hi,aux):\n",
    "    \n",
    "    n = hi-lo\n",
    "    if n<=1: return\n",
    "    mid = (lo+hi)//2\n",
    "    sort(a,lo,mid,aux)\n",
    "    sort(a,mid,hi,aux)\n",
    "    merge(a,lo,mid,hi,aux)\n",
    "    \n",
    "\n",
    "\n",
    "def three_sum(ar,n):\n",
    "    \n",
    "    aux = len(ar)*[None]\n",
    "    sort(ar,0,len(ar)-1,aux)\n",
    "    \n",
    "    for i in range(len(ar)-2):\n",
    "        l = i+1\n",
    "        h = len(ar)-1\n",
    "        while l<h:\n",
    "            if ar[l]+ar[h]+ar[i]== n:\n",
    "                print(ar[l],ar[h],ar[i])\n",
    "                l+=1\n",
    "                h-=1\n",
    "            elif ar[l]+ar[h]+ar[i]>n:\n",
    "                h-=1\n",
    "            elif ar[l]+ar[h]+ar[i]<n:\n",
    "                l+=1\n",
    "                \n",
    "three_sum(ar,1)"
   ]
  },
  {
   "cell_type": "markdown",
   "metadata": {},
   "source": [
    "# Ex 4.2.26"
   ]
  },
  {
   "cell_type": "code",
   "execution_count": 36,
   "metadata": {},
   "outputs": [
    {
     "name": "stdout",
     "output_type": "stream",
     "text": [
      "2\n"
     ]
    }
   ],
   "source": [
    "\n",
    "def swap(a,i,j):\n",
    "    a[i],a[j] = a[j],a[i]\n",
    "    \n",
    "def inser(a):\n",
    "    n = len(a)-1\n",
    "    for i in range(0,n):\n",
    "        j = i\n",
    "        while j>=0 and a[j]>a[j+1]:\n",
    "            swap(a,j,j+1)\n",
    "            j-=1\n",
    "    return x\n",
    "\n",
    "\n",
    "def majority(x):\n",
    "    ser = (len(x)//2)+1\n",
    "    count = 1\n",
    "    for i in range(1,len(x)):\n",
    "        if x[i]==x[i-1]:\n",
    "            count+=1\n",
    "            if count == ser:\n",
    "                return x[i]\n",
    "        else:\n",
    "            count = 1\n",
    "    return -1\n",
    "        \n",
    "\n",
    "x = [2,2,2,2,3,4,5]\n",
    "print(majority(x))\n",
    "\n",
    "        \n",
    "    \n",
    "    "
   ]
  },
  {
   "cell_type": "code",
   "execution_count": 41,
   "metadata": {},
   "outputs": [
    {
     "name": "stdout",
     "output_type": "stream",
     "text": [
      "-1\n"
     ]
    }
   ],
   "source": [
    "\n",
    "def majority1(x):\n",
    "    \n",
    "    dict1 = {}\n",
    "    n = (len(x)//2)+1\n",
    "    \n",
    "    for i in x:\n",
    "        dict1[i] = 0\n",
    "    \n",
    "    for i in x:\n",
    "        dict1[i] += 1\n",
    "        if dict1[i] == n:\n",
    "            return i\n",
    "    return -1\n",
    "\n",
    "\n",
    "x = [1,2]\n",
    "print(majority1(x))"
   ]
  },
  {
   "cell_type": "markdown",
   "metadata": {},
   "source": [
    "# Ex 4.2.27"
   ]
  },
  {
   "cell_type": "code",
   "execution_count": 80,
   "metadata": {},
   "outputs": [
    {
     "name": "stdout",
     "output_type": "stream",
     "text": [
      "the\n"
     ]
    }
   ],
   "source": [
    "\n",
    "def merge(a,lo,mid,hi,aux):\n",
    "    n = hi-lo\n",
    "    i = lo\n",
    "    j = mid\n",
    "    \n",
    "    for k in range(n):\n",
    "        if i==mid:         aux[k] = a[j]; j+=1\n",
    "        elif j==hi:        aux[k] = a[i]; i+=1\n",
    "        elif a[j]<a[i]:    aux[k] = a[j]; j+=1\n",
    "        else:              aux[k] = a[i]; i+=1\n",
    "    a[lo:hi] = aux[0:n]\n",
    "\n",
    "def sort(a,lo,hi,aux):\n",
    "    \n",
    "    n = hi-lo\n",
    "    if n<=1: return\n",
    "    mid = (lo+hi)//2\n",
    "    sort(a,lo,mid,aux)\n",
    "    sort(a,mid,hi,aux)\n",
    "    merge(a,lo,mid,hi,aux)\n",
    "\n",
    "def binary_search(arr,lo,hi,n):\n",
    "    \n",
    "    mid = (lo+hi)//2\n",
    "    if lo>hi:\n",
    "        return -1\n",
    "    if arr[mid] == n:\n",
    "        return arr[mid]\n",
    "    elif arr[mid]<n:\n",
    "        return binary_search(arr,mid+1,hi,n)\n",
    "    elif arr[mid]>n:\n",
    "        return binary_search(arr,lo,mid-1,n)\n",
    "    \n",
    "x1 = ['zap','zip','the','i','love']\n",
    "x2 = ['programming','is','fun','earth','the']\n",
    "x3 = ['the','pune','bbsr','ctc','har','hisar']\n",
    "\n",
    "\n",
    "\n",
    "\n",
    "def common_element(x1,x2,x3):\n",
    "    \n",
    "    aux1 = len(x1)*[None]\n",
    "    aux2 = len(x2)*[None]\n",
    "    aux3 = len(x3)*[None]\n",
    "    \n",
    "    sort(x1,0,len(x1),aux1)\n",
    "    sort(x2,0,len(x2),aux2)\n",
    "    sort(x3,0,len(x3),aux3)\n",
    "\n",
    "    for i in x1:\n",
    "        z2 = binary_search(x2,0,len(x2)-1,i)\n",
    "        z3 = binary_search(x3,0,len(x3)-1,i)\n",
    "        if z2==i and z3==i:\n",
    "            return i\n",
    "    else:\n",
    "        return 'Not found'\n",
    "    \n",
    "print(common_element(x1,x2,x3))\n",
    "\n",
    "\n",
    "\n",
    "    \n"
   ]
  },
  {
   "cell_type": "markdown",
   "metadata": {},
   "source": [
    "# Ex 4.2.30"
   ]
  },
  {
   "cell_type": "code",
   "execution_count": 6,
   "metadata": {},
   "outputs": [
    {
     "name": "stdout",
     "output_type": "stream",
     "text": [
      "5 5 7 7 5 5 5 5 7 7 7 7 7 7 7\n",
      "[5, 5, 5, 5, 5, 5, 7, 7, 7, 7, 7, 7, 7, 7, 7]\n"
     ]
    }
   ],
   "source": [
    "x = list(map(int,input().split()))\n",
    "\n",
    "def partition(x):\n",
    "    i = 0\n",
    "    j = len(x)-1\n",
    "    \n",
    "    a = min(x)\n",
    "    b = max(x)\n",
    "    \n",
    "    while i<j:\n",
    "        if x[i]>x[j]:\n",
    "            x[i],x[j] = x[j],x[i]\n",
    "            i+=1\n",
    "            j-=1\n",
    "        elif x[i] == x[j] and x[i]==a:\n",
    "            i+=1\n",
    "        elif x[i] == x[j] and x[j]==b:\n",
    "            j-=1\n",
    "        else:\n",
    "            i+=1\n",
    "            j-=1\n",
    "    return x\n",
    "        \n",
    "  \n",
    "print(partition(x))\n"
   ]
  },
  {
   "cell_type": "markdown",
   "metadata": {},
   "source": [
    "# 4.2.31"
   ]
  },
  {
   "cell_type": "code",
   "execution_count": 29,
   "metadata": {},
   "outputs": [
    {
     "name": "stdout",
     "output_type": "stream",
     "text": [
      "3 2 1 3 2 1 3 2 1\n",
      "[1, 1, 1, 2, 2, 2, 3, 3, 3]\n"
     ]
    }
   ],
   "source": [
    "x = list(map(int,input().split()))\n",
    "\n",
    "def dutch_flag(x):\n",
    "    \n",
    "    i1 = 0\n",
    "    j1 = len(x)-1\n",
    "    \n",
    "    a = min(x)\n",
    "    \n",
    "    while i1<j1:\n",
    "        if x[i1]!=a and  x[j1]==a:\n",
    "            x[i1],x[j1] = x[j1],x[i1]\n",
    "            i1+=1\n",
    "            j1-=1\n",
    "        elif x[i1]!=a and x[j1]!=a:\n",
    "            j1-=1\n",
    "        elif x[i1]==x[j1] and x[j1] != a:\n",
    "            j1-=1\n",
    "        else:\n",
    "            i1+=1\n",
    "            \n",
    "    b = max(x)\n",
    "    \n",
    "    i1 = 0\n",
    "    j1 = len(x)-1\n",
    "    \n",
    "    while i1<j1:\n",
    "        if x[i1]==b and  x[j1]!=b:\n",
    "            x[i1],x[j1] = x[j1],x[i1]\n",
    "            i1+=1\n",
    "            j1-=1\n",
    "        elif x[i1]!=b and x[j1]!=b:\n",
    "            i1+=1\n",
    "        elif x[i1]==x[j1] and x[j1] != b:\n",
    "            i1+=1\n",
    "        else:\n",
    "            j1-=1\n",
    "    \n",
    "    return x\n",
    "print(dutch_flag(x))\n",
    "            "
   ]
  },
  {
   "cell_type": "markdown",
   "metadata": {},
   "source": [
    "#  Three  way quick sort algo for Dutch national flag"
   ]
  },
  {
   "cell_type": "code",
   "execution_count": 28,
   "metadata": {},
   "outputs": [
    {
     "name": "stdout",
     "output_type": "stream",
     "text": [
      "3 2 1 3 2 1 3 2 1\n",
      "[1, 1, 1, 2, 2, 2, 3, 3, 3]\n"
     ]
    }
   ],
   "source": [
    "def dutch(x,lo,hi):\n",
    "    \n",
    "    if hi<=lo: return\n",
    "    \n",
    "    k=x[lo]\n",
    "    lt=lo\n",
    "    gt = hi\n",
    "    i = lo\n",
    "    \n",
    "    while i<=gt:\n",
    "        \n",
    "        \n",
    "        if x[i]<k:\n",
    "            x[lt],x[i] = x[i],x[lt]\n",
    "            lt+=1\n",
    "            i+=1\n",
    "        elif x[i]>k:\n",
    "            x[gt],x[i] = x[gt],x[i]\n",
    "            gt-=1\n",
    "        else:\n",
    "            i+=1\n",
    "        \n",
    "    dutch(x,lo,lt-1)\n",
    "    dutch(x,gt+1,hi)\n",
    "    \n",
    "    return x\n",
    "\n",
    "\n",
    "\n",
    "\n",
    "x = list(map(int,input().split()))\n",
    "print(dutch(x,0,len(x)-1))"
   ]
  },
  {
   "cell_type": "markdown",
   "metadata": {},
   "source": [
    "# Ex 4.2.33        "
   ]
  },
  {
   "cell_type": "code",
   "execution_count": 34,
   "metadata": {},
   "outputs": [
    {
     "name": "stdout",
     "output_type": "stream",
     "text": [
      "cs.princeton.edu\n",
      "edu.princeton.cs\n"
     ]
    }
   ],
   "source": [
    "x = input()\n",
    "\n",
    "def reverse_domain(x):\n",
    "    x = x.split('.')\n",
    "    x = x[::-1]\n",
    "    x = '.'.join(x)\n",
    "    return x\n",
    "print(reverse_domain(x))"
   ]
  },
  {
   "cell_type": "markdown",
   "metadata": {},
   "source": [
    "# Ex 4.2.34"
   ]
  },
  {
   "cell_type": "code",
   "execution_count": 82,
   "metadata": {},
   "outputs": [
    {
     "name": "stdout",
     "output_type": "stream",
     "text": [
      "2\n"
     ]
    }
   ],
   "source": [
    "arr = [3,2,4]\n",
    "\n",
    "def local_min(x,lo,hi):\n",
    "    \n",
    "    mid = (lo+hi)//2\n",
    "    if (mid == 0 or x[mid]<x[mid-1]) and (mid == len(x)-1 or x[mid]<x[mid+1]):\n",
    "        return x[mid]\n",
    "    \n",
    "    elif mid>0 and x[mid]>x[mid-1]:\n",
    "        return local_min(x,lo,mid-1)\n",
    "    \n",
    "    else:\n",
    "        return local_min(x,mid+1,hi)\n",
    "\n",
    "print(local_min(arr,0,len(arr)-1))\n",
    "    \n",
    "    "
   ]
  },
  {
   "cell_type": "code",
   "execution_count": 8,
   "metadata": {},
   "outputs": [
    {
     "name": "stdout",
     "output_type": "stream",
     "text": [
      "tibmas\n"
     ]
    }
   ],
   "source": [
    "def recre(x):\n",
    "    if len(x)==1:\n",
    "        return x \n",
    "    else:\n",
    "        return x[len(x)-1]+recre(x[0:len(x)-1])\n",
    "print(recre('sambit'))"
   ]
  },
  {
   "cell_type": "code",
   "execution_count": null,
   "metadata": {},
   "outputs": [],
   "source": []
  }
 ],
 "metadata": {
  "kernelspec": {
   "display_name": "Python 3",
   "language": "python",
   "name": "python3"
  },
  "language_info": {
   "codemirror_mode": {
    "name": "ipython",
    "version": 3
   },
   "file_extension": ".py",
   "mimetype": "text/x-python",
   "name": "python",
   "nbconvert_exporter": "python",
   "pygments_lexer": "ipython3",
   "version": "3.6.5"
  }
 },
 "nbformat": 4,
 "nbformat_minor": 2
}
